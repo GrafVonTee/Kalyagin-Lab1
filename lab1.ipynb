{
 "cells": [
  {
   "cell_type": "markdown",
   "id": "75519c96",
   "metadata": {
    "vscode": {
     "languageId": "plaintext"
    }
   },
   "source": [
    "# Лабораторная работа 1\n",
    "\n",
    "Выполнили студенты 25ИАД:\n",
    "1) Данил Ерёменко\n",
    "2) Кудасов Максим"
   ]
  },
  {
   "cell_type": "markdown",
   "id": "df5d338d",
   "metadata": {},
   "source": [
    "## Подготовка данных"
   ]
  },
  {
   "cell_type": "code",
   "execution_count": 197,
   "id": "f16beffb",
   "metadata": {},
   "outputs": [],
   "source": [
    "from sklearn.decomposition import TruncatedSVD\n",
    "import numpy as np\n",
    "import pandas as pd\n",
    "import copy"
   ]
  },
  {
   "cell_type": "code",
   "execution_count": 109,
   "id": "2b47e672",
   "metadata": {},
   "outputs": [
    {
     "data": {
      "text/plain": [
       "array([[9, 6, 9, 2, 2],\n",
       "       [4, 6, 2, 6, 7],\n",
       "       [0, 0, 5, 0, 0],\n",
       "       [2, 2, 0, 9, 9],\n",
       "       [6, 9, 8, 3, 3],\n",
       "       [3, 8, 5, 4, 7],\n",
       "       [4, 5, 6, 3, 6],\n",
       "       [8, 6, 8, 2, 2],\n",
       "       [4, 4, 0, 8, 8],\n",
       "       [2, 8, 4, 5, 7],\n",
       "       [1, 2, 6, 0, 0],\n",
       "       [6, 9, 7, 3, 5],\n",
       "       [6, 7, 1, 7, 8],\n",
       "       [2, 1, 7, 1, 1],\n",
       "       [9, 7, 9, 2, 1]])"
      ]
     },
     "execution_count": 109,
     "metadata": {},
     "output_type": "execute_result"
    }
   ],
   "source": [
    "# Считываем датасет\n",
    "path_to_file = \"Materials/Bank_Example.xlsx\"\n",
    "X_data = pd.read_excel(path_to_file, header=None).to_numpy()\n",
    "X_data"
   ]
  },
  {
   "cell_type": "code",
   "execution_count": 110,
   "id": "1d723ab3",
   "metadata": {},
   "outputs": [
    {
     "data": {
      "text/plain": [
       "array([[ 0.43158731,  0.06102782,  0.33188947, -0.15939418, -0.19889806],\n",
       "       [-0.03752933,  0.06102782, -0.26894492,  0.22315185,  0.2154729 ],\n",
       "       [-0.41282264, -0.48822256, -0.01144446, -0.35066719, -0.36464645],\n",
       "       [-0.22517599, -0.3051391 , -0.44061189,  0.51006137,  0.38122129],\n",
       "       [ 0.15011733,  0.33565301,  0.24605599, -0.06375767, -0.11602387],\n",
       "       [-0.13135266,  0.24411128, -0.01144446,  0.03187884,  0.2154729 ],\n",
       "       [-0.03752933, -0.03051391,  0.07438902, -0.06375767,  0.13259871],\n",
       "       [ 0.33776398,  0.06102782,  0.24605599, -0.15939418, -0.19889806],\n",
       "       [-0.03752933, -0.12205564, -0.44061189,  0.41442486,  0.29834709],\n",
       "       [-0.22517599,  0.24411128, -0.09727795,  0.12751534,  0.2154729 ],\n",
       "       [-0.31899932, -0.3051391 ,  0.07438902, -0.35066719, -0.36464645],\n",
       "       [ 0.15011733,  0.33565301,  0.1602225 , -0.06375767,  0.04972452],\n",
       "       [ 0.15011733,  0.15256955, -0.3547784 ,  0.31878836,  0.29834709],\n",
       "       [-0.22517599, -0.39668083,  0.1602225 , -0.25503069, -0.28177226],\n",
       "       [ 0.43158731,  0.15256955,  0.33188947, -0.15939418, -0.28177226]])"
      ]
     },
     "execution_count": 110,
     "metadata": {},
     "output_type": "execute_result"
    }
   ],
   "source": [
    "# Центрируем и нормализуем (через L2-норму)\n",
    "X_centered = X_data - X_data.mean(axis=0)\n",
    "X_cleaned = X_centered / np.linalg.norm(X_centered, axis=0)\n",
    "X_cleaned"
   ]
  },
  {
   "cell_type": "code",
   "execution_count": 111,
   "id": "63cd6078",
   "metadata": {},
   "outputs": [],
   "source": [
    "# Проверяем корректность центрировки и нормировки\n",
    "assert(np.allclose(X_cleaned, X_cleaned - X_cleaned.mean(axis=0))) # центр должен быть в нуле\n",
    "assert(np.allclose(np.linalg.norm(X_cleaned, axis=0), np.array([1] * X_cleaned.shape[1]))) # l2 норма должна быть равна 1"
   ]
  },
  {
   "cell_type": "markdown",
   "id": "96855b7e",
   "metadata": {},
   "source": [
    "## SVD разложение\n",
    "\n",
    "Далее проведём разложение полученных данных для того, чтобы проанализировать данные на наличие скрытых признаков, на выявление главных признаков и зависимости между скрытыми признаками и изначальными"
   ]
  },
  {
   "cell_type": "code",
   "execution_count": 112,
   "id": "92c35287",
   "metadata": {},
   "outputs": [],
   "source": [
    "# Раскладываем\n",
    "U, S, Vt = np.linalg.svd(X_cleaned, full_matrices=False)\n",
    "S_r = np.diag(S)"
   ]
  },
  {
   "cell_type": "code",
   "execution_count": 113,
   "id": "3fecc953",
   "metadata": {},
   "outputs": [
    {
     "name": "stdout",
     "output_type": "stream",
     "text": [
      "U shape = (15, 5)\n",
      "S shape = (5,)\n",
      "Vt shape = (5, 5)\n"
     ]
    }
   ],
   "source": [
    "print(f\"U shape = {U.shape}\")\n",
    "print(f\"S shape = {S.shape}\")\n",
    "print(f\"Vt shape = {Vt.shape}\")"
   ]
  },
  {
   "cell_type": "code",
   "execution_count": 139,
   "id": "705fda3a",
   "metadata": {},
   "outputs": [],
   "source": [
    "# Проверяем корректность разложения\n",
    "assert(np.allclose(X_cleaned, U @ S_r @ Vt))"
   ]
  },
  {
   "cell_type": "code",
   "execution_count": 138,
   "id": "e589c0e1",
   "metadata": {},
   "outputs": [
    {
     "name": "stdout",
     "output_type": "stream",
     "text": [
      "Сингулярные числа:\n",
      "[1.65969941 1.33224208 0.61407764 0.25488052 0.16874093]\n",
      "Квадраты сингулярных чисел:\n",
      "[2.75460213 1.77486895 0.37709134 0.06496408 0.0284735 ]\n",
      "Вклад факторов в вариацию данных (в %):\n",
      "[55.09204252 35.49737894  7.54182686  1.29928162  0.56947006]\n"
     ]
    }
   ],
   "source": [
    "# Смотрим сингулярные числа\n",
    "print(f\"Сингулярные числа:\\n{S}\")\n",
    "print(f\"Квадраты сингулярных чисел:\\n{S**2}\")\n",
    "print(f\"Вклад факторов в вариацию данных (в %):\")\n",
    "contrib = S**2 / np.sum(S**2) * 100\n",
    "print(contrib)"
   ]
  },
  {
   "cell_type": "code",
   "execution_count": 148,
   "id": "178752b4",
   "metadata": {},
   "outputs": [
    {
     "name": "stdout",
     "output_type": "stream",
     "text": [
      "Суммарный вклад первых 2 факторов: 90.59\n",
      "Ошибка аппроксимации (в норме Фробениуса): 0.69\n",
      "Ошибка аппроксимации (в матричной форме): 0.61\n"
     ]
    }
   ],
   "source": [
    "# Ищем первые k самых важных факторов\n",
    "k = 2\n",
    "sum_contrib = np.sum(contrib[:k])\n",
    "\n",
    "X_k = U[:, :k] @ np.diag(S[:k]) @ Vt[:k, :]\n",
    "R = X_cleaned - X_k\n",
    "frobenius_error = np.sqrt(np.sum(R**2))\n",
    "matrix_error = np.sqrt(np.linalg.svd(R, compute_uv=False)[0]**2)\n",
    "print(f\"Суммарный вклад первых {k} факторов: {sum_contrib:.2f}\")\n",
    "print(f\"Ошибка аппроксимации (в норме Фробениуса): {frobenius_error:.2f}\")\n",
    "print(f\"Ошибка аппроксимации (в матричной форме): {matrix_error:.2f}\")"
   ]
  },
  {
   "cell_type": "markdown",
   "id": "c09c4c40",
   "metadata": {},
   "source": [
    "Дальнейший анализ показал, что в данных:\n",
    "1) Существует 2 скрытых фактора, которые суммарно имеют вклад 90.59% в данные "
   ]
  },
  {
   "cell_type": "markdown",
   "id": "eae659f9",
   "metadata": {},
   "source": [
    "## Анализ признаков"
   ]
  },
  {
   "cell_type": "code",
   "execution_count": 179,
   "id": "e78b629a",
   "metadata": {},
   "outputs": [
    {
     "name": "stdout",
     "output_type": "stream",
     "text": [
      "(15, 2)\n",
      "(2,)\n",
      "(2, 5)\n"
     ]
    }
   ],
   "source": [
    "U2, S2, Vt2 = U[:, :k], S[:k], Vt[:k, :]\n",
    "print(U2.shape)\n",
    "print(S2.shape)\n",
    "print(Vt2.shape)"
   ]
  },
  {
   "cell_type": "code",
   "execution_count": 184,
   "id": "b4455604",
   "metadata": {},
   "outputs": [
    {
     "data": {
      "text/plain": [
       "array([[-0.29528239, -0.85319934],\n",
       "       [ 0.04764026, -0.91990824],\n",
       "       [-0.93759902, -0.2775059 ],\n",
       "       [ 0.94964243, -0.22798311],\n",
       "       [ 0.94033407, -0.26777388]])"
      ]
     },
     "execution_count": 184,
     "metadata": {},
     "output_type": "execute_result"
    }
   ],
   "source": [
    "# Находим коэффициенты корреляции между скрытыми признаками и изначальными\n",
    "feat_coeffs = Vt2.T * S2\n",
    "feat_coeffs"
   ]
  },
  {
   "cell_type": "markdown",
   "id": "589c9902",
   "metadata": {},
   "source": [
    "Тут мы наблюдаем следующее:\n",
    "1) Признаки 1 и 2 имеют заметную корреляцию (>85%) со вторым скрытым признаком. Логически можно предположить, что эти два вопроса объеденены общей тематикой \"Отношение к банкам разных размеров\". Далее, обращая внимание на знак и на значения в оригинальной таблице, можно предположить, что искомый признак может иметь название \"Отношение к крупным банкам\", где 0 -- крайне положительно, 9 -- крайне негативно.\n",
    "2) Признаки 3, 4 и 5 имеют общую тематику \"Отношение к обслуживанию\" и сильно коррелируют с первым признаком. Соответственно, можно предположить, что название признака звучит как \"Чувствительность к качеству обслуживания\", где 0 -- очень чувствителен, 9 -- совершенно не требователен."
   ]
  },
  {
   "cell_type": "code",
   "execution_count": 200,
   "id": "17e00f74",
   "metadata": {},
   "outputs": [],
   "source": [
    "def translate_to_another_scale(orig_table: np.ndarray):\n",
    "    table = copy.deepcopy(orig_table)\n",
    "    for col in range(table.shape[1]):\n",
    "        x_min, x_max = table[:, col].min(), table[:, col].max()\n",
    "        if x_max == x_min:\n",
    "            table[:, col] = np.zeros_like(table[:, col], dtype=int)\n",
    "        table[:, col] = np.rint(9 * (table[:, col] - x_min) / (x_max - x_min)).astype(int)\n",
    "    return table"
   ]
  },
  {
   "cell_type": "code",
   "execution_count": null,
   "id": "ae28c9e8",
   "metadata": {},
   "outputs": [
    {
     "data": {
      "text/plain": [
       "array([[0., 0.],\n",
       "       [6., 3.],\n",
       "       [1., 9.],\n",
       "       [9., 5.],\n",
       "       [2., 0.],\n",
       "       [5., 2.],\n",
       "       [4., 3.],\n",
       "       [1., 1.],\n",
       "       [8., 4.],\n",
       "       [6., 2.],\n",
       "       [1., 7.],\n",
       "       [3., 0.],\n",
       "       [7., 1.],\n",
       "       [1., 7.],\n",
       "       [0., 0.]])"
      ]
     },
     "execution_count": 204,
     "metadata": {},
     "output_type": "execute_result"
    }
   ],
   "source": [
    "# Возвращаем новую, более компактную таблицу\n",
    "X_new = translate_to_another_scale(U2)\n",
    "X_new"
   ]
  }
 ],
 "metadata": {
  "kernelspec": {
   "display_name": "Python 3 (ipykernel)",
   "language": "python",
   "name": "python3"
  },
  "language_info": {
   "codemirror_mode": {
    "name": "ipython",
    "version": 3
   },
   "file_extension": ".py",
   "mimetype": "text/x-python",
   "name": "python",
   "nbconvert_exporter": "python",
   "pygments_lexer": "ipython3",
   "version": "3.10.19"
  }
 },
 "nbformat": 4,
 "nbformat_minor": 5
}
